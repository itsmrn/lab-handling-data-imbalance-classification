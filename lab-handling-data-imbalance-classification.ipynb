{
 "cells": [
  {
   "cell_type": "markdown",
   "id": "77e31767-aa53-47be-922c-9b17639c2b5f",
   "metadata": {},
   "source": [
    "## Lab | Handling Data Imbalance in Classification Models"
   ]
  },
  {
   "cell_type": "markdown",
   "id": "f2c8d03e-4d0f-4ff0-9dde-3bd5be998990",
   "metadata": {},
   "source": [
    "#### Import the required libraries and modules that you would need."
   ]
  },
  {
   "cell_type": "code",
   "execution_count": 1,
   "id": "3c85ad15-560d-457e-b995-3f7b4c03346e",
   "metadata": {},
   "outputs": [],
   "source": [
    "import pandas as pd\n",
    "import numpy as np\n",
    "from sklearn.preprocessing import StandardScaler\n",
    "from sklearn.model_selection import train_test_split\n",
    "from sklearn.linear_model import LogisticRegression\n",
    "from sklearn import preprocessing\n",
    "\n",
    "from sklearn.metrics import accuracy_score,f1_score\n",
    "from sklearn.metrics import confusion_matrix\n",
    "from sklearn.metrics import classification_report\n",
    "\n",
    "from imblearn.over_sampling import RandomOverSampler\n",
    "from imblearn.under_sampling import RandomUnderSampler\n",
    "from imblearn.over_sampling import SMOTE\n",
    "from imblearn.under_sampling import TomekLinks"
   ]
  },
  {
   "cell_type": "markdown",
   "id": "173bae47-eeae-4001-9780-3fc5f7f28c7e",
   "metadata": {},
   "source": [
    "#### Read that data into Python and call the dataframe churnData"
   ]
  },
  {
   "cell_type": "code",
   "execution_count": 2,
   "id": "f2ffac74-5a99-4a7a-b5e9-ccb1917daf80",
   "metadata": {},
   "outputs": [
    {
     "data": {
      "text/html": [
       "<div>\n",
       "<style scoped>\n",
       "    .dataframe tbody tr th:only-of-type {\n",
       "        vertical-align: middle;\n",
       "    }\n",
       "\n",
       "    .dataframe tbody tr th {\n",
       "        vertical-align: top;\n",
       "    }\n",
       "\n",
       "    .dataframe thead th {\n",
       "        text-align: right;\n",
       "    }\n",
       "</style>\n",
       "<table border=\"1\" class=\"dataframe\">\n",
       "  <thead>\n",
       "    <tr style=\"text-align: right;\">\n",
       "      <th></th>\n",
       "      <th>gender</th>\n",
       "      <th>SeniorCitizen</th>\n",
       "      <th>Partner</th>\n",
       "      <th>Dependents</th>\n",
       "      <th>tenure</th>\n",
       "      <th>PhoneService</th>\n",
       "      <th>OnlineSecurity</th>\n",
       "      <th>OnlineBackup</th>\n",
       "      <th>DeviceProtection</th>\n",
       "      <th>TechSupport</th>\n",
       "      <th>StreamingTV</th>\n",
       "      <th>StreamingMovies</th>\n",
       "      <th>Contract</th>\n",
       "      <th>MonthlyCharges</th>\n",
       "      <th>TotalCharges</th>\n",
       "      <th>Churn</th>\n",
       "    </tr>\n",
       "  </thead>\n",
       "  <tbody>\n",
       "    <tr>\n",
       "      <th>0</th>\n",
       "      <td>Female</td>\n",
       "      <td>0</td>\n",
       "      <td>Yes</td>\n",
       "      <td>No</td>\n",
       "      <td>1</td>\n",
       "      <td>No</td>\n",
       "      <td>No</td>\n",
       "      <td>Yes</td>\n",
       "      <td>No</td>\n",
       "      <td>No</td>\n",
       "      <td>No</td>\n",
       "      <td>No</td>\n",
       "      <td>Month-to-month</td>\n",
       "      <td>29.85</td>\n",
       "      <td>29.85</td>\n",
       "      <td>No</td>\n",
       "    </tr>\n",
       "    <tr>\n",
       "      <th>1</th>\n",
       "      <td>Male</td>\n",
       "      <td>0</td>\n",
       "      <td>No</td>\n",
       "      <td>No</td>\n",
       "      <td>34</td>\n",
       "      <td>Yes</td>\n",
       "      <td>Yes</td>\n",
       "      <td>No</td>\n",
       "      <td>Yes</td>\n",
       "      <td>No</td>\n",
       "      <td>No</td>\n",
       "      <td>No</td>\n",
       "      <td>One year</td>\n",
       "      <td>56.95</td>\n",
       "      <td>1889.5</td>\n",
       "      <td>No</td>\n",
       "    </tr>\n",
       "    <tr>\n",
       "      <th>2</th>\n",
       "      <td>Male</td>\n",
       "      <td>0</td>\n",
       "      <td>No</td>\n",
       "      <td>No</td>\n",
       "      <td>2</td>\n",
       "      <td>Yes</td>\n",
       "      <td>Yes</td>\n",
       "      <td>Yes</td>\n",
       "      <td>No</td>\n",
       "      <td>No</td>\n",
       "      <td>No</td>\n",
       "      <td>No</td>\n",
       "      <td>Month-to-month</td>\n",
       "      <td>53.85</td>\n",
       "      <td>108.15</td>\n",
       "      <td>Yes</td>\n",
       "    </tr>\n",
       "  </tbody>\n",
       "</table>\n",
       "</div>"
      ],
      "text/plain": [
       "   gender  SeniorCitizen Partner Dependents  tenure PhoneService  \\\n",
       "0  Female              0     Yes         No       1           No   \n",
       "1    Male              0      No         No      34          Yes   \n",
       "2    Male              0      No         No       2          Yes   \n",
       "\n",
       "  OnlineSecurity OnlineBackup DeviceProtection TechSupport StreamingTV  \\\n",
       "0             No          Yes               No          No          No   \n",
       "1            Yes           No              Yes          No          No   \n",
       "2            Yes          Yes               No          No          No   \n",
       "\n",
       "  StreamingMovies        Contract  MonthlyCharges TotalCharges Churn  \n",
       "0              No  Month-to-month           29.85        29.85    No  \n",
       "1              No        One year           56.95       1889.5    No  \n",
       "2              No  Month-to-month           53.85       108.15   Yes  "
      ]
     },
     "execution_count": 2,
     "metadata": {},
     "output_type": "execute_result"
    }
   ],
   "source": [
    "df = pd.read_csv(\"Customer-Churn.csv\")\n",
    "df.head(3)"
   ]
  },
  {
   "cell_type": "markdown",
   "id": "32875088-be16-4719-8075-1148a0414ee4",
   "metadata": {},
   "source": [
    "#### Check the datatypes of all the columns in the data. You would see that the column TotalCharges is object type. Convert this column into numeric type using pd.to_numeric function.\n"
   ]
  },
  {
   "cell_type": "code",
   "execution_count": 3,
   "id": "7d46c0bd-daa3-4feb-ae48-9a5c7aca1052",
   "metadata": {},
   "outputs": [
    {
     "name": "stdout",
     "output_type": "stream",
     "text": [
      "<class 'pandas.core.frame.DataFrame'>\n",
      "RangeIndex: 7043 entries, 0 to 7042\n",
      "Data columns (total 16 columns):\n",
      " #   Column            Non-Null Count  Dtype  \n",
      "---  ------            --------------  -----  \n",
      " 0   gender            7043 non-null   object \n",
      " 1   SeniorCitizen     7043 non-null   int64  \n",
      " 2   Partner           7043 non-null   object \n",
      " 3   Dependents        7043 non-null   object \n",
      " 4   tenure            7043 non-null   int64  \n",
      " 5   PhoneService      7043 non-null   object \n",
      " 6   OnlineSecurity    7043 non-null   object \n",
      " 7   OnlineBackup      7043 non-null   object \n",
      " 8   DeviceProtection  7043 non-null   object \n",
      " 9   TechSupport       7043 non-null   object \n",
      " 10  StreamingTV       7043 non-null   object \n",
      " 11  StreamingMovies   7043 non-null   object \n",
      " 12  Contract          7043 non-null   object \n",
      " 13  MonthlyCharges    7043 non-null   float64\n",
      " 14  TotalCharges      7043 non-null   object \n",
      " 15  Churn             7043 non-null   object \n",
      "dtypes: float64(1), int64(2), object(13)\n",
      "memory usage: 880.5+ KB\n"
     ]
    }
   ],
   "source": [
    "df.info()"
   ]
  },
  {
   "cell_type": "code",
   "execution_count": 4,
   "id": "4cbbc7fa-2219-451e-90ed-200a93fd012c",
   "metadata": {},
   "outputs": [
    {
     "name": "stdout",
     "output_type": "stream",
     "text": [
      "<class 'pandas.core.frame.DataFrame'>\n",
      "RangeIndex: 7043 entries, 0 to 7042\n",
      "Data columns (total 16 columns):\n",
      " #   Column            Non-Null Count  Dtype  \n",
      "---  ------            --------------  -----  \n",
      " 0   gender            7043 non-null   object \n",
      " 1   SeniorCitizen     7043 non-null   int64  \n",
      " 2   Partner           7043 non-null   object \n",
      " 3   Dependents        7043 non-null   object \n",
      " 4   tenure            7043 non-null   int64  \n",
      " 5   PhoneService      7043 non-null   object \n",
      " 6   OnlineSecurity    7043 non-null   object \n",
      " 7   OnlineBackup      7043 non-null   object \n",
      " 8   DeviceProtection  7043 non-null   object \n",
      " 9   TechSupport       7043 non-null   object \n",
      " 10  StreamingTV       7043 non-null   object \n",
      " 11  StreamingMovies   7043 non-null   object \n",
      " 12  Contract          7043 non-null   object \n",
      " 13  MonthlyCharges    7043 non-null   float64\n",
      " 14  TotalCharges      7032 non-null   float64\n",
      " 15  Churn             7043 non-null   object \n",
      "dtypes: float64(2), int64(2), object(12)\n",
      "memory usage: 880.5+ KB\n"
     ]
    }
   ],
   "source": [
    "df[\"TotalCharges\"] = pd.to_numeric(df[\"TotalCharges\"],errors=\"coerce\") #converting into float\n",
    "df.info() #sanity check"
   ]
  },
  {
   "cell_type": "markdown",
   "id": "154cc630-ae9c-44f6-9e81-b2375c94c53d",
   "metadata": {},
   "source": [
    "#### Check for null values in the dataframe. Replace the null values."
   ]
  },
  {
   "cell_type": "code",
   "execution_count": 5,
   "id": "ec5b46ec-5fc4-472f-ad22-46ea043d332e",
   "metadata": {},
   "outputs": [
    {
     "data": {
      "text/plain": [
       "gender               0\n",
       "SeniorCitizen        0\n",
       "Partner              0\n",
       "Dependents           0\n",
       "tenure               0\n",
       "PhoneService         0\n",
       "OnlineSecurity       0\n",
       "OnlineBackup         0\n",
       "DeviceProtection     0\n",
       "TechSupport          0\n",
       "StreamingTV          0\n",
       "StreamingMovies      0\n",
       "Contract             0\n",
       "MonthlyCharges       0\n",
       "TotalCharges        11\n",
       "Churn                0\n",
       "dtype: int64"
      ]
     },
     "execution_count": 5,
     "metadata": {},
     "output_type": "execute_result"
    }
   ],
   "source": [
    "df.isna().sum()"
   ]
  },
  {
   "cell_type": "code",
   "execution_count": 6,
   "id": "bf35fcb0-9cc7-4aef-9d2e-1009acbec1ad",
   "metadata": {},
   "outputs": [],
   "source": [
    "df[\"TotalCharges\"].fillna((df[\"TotalCharges\"].mean()), inplace=True) #replace by mean"
   ]
  },
  {
   "cell_type": "code",
   "execution_count": 7,
   "id": "589533ff-92fd-4387-a61d-a0181211bccc",
   "metadata": {},
   "outputs": [
    {
     "data": {
      "text/plain": [
       "gender              0\n",
       "SeniorCitizen       0\n",
       "Partner             0\n",
       "Dependents          0\n",
       "tenure              0\n",
       "PhoneService        0\n",
       "OnlineSecurity      0\n",
       "OnlineBackup        0\n",
       "DeviceProtection    0\n",
       "TechSupport         0\n",
       "StreamingTV         0\n",
       "StreamingMovies     0\n",
       "Contract            0\n",
       "MonthlyCharges      0\n",
       "TotalCharges        0\n",
       "Churn               0\n",
       "dtype: int64"
      ]
     },
     "execution_count": 7,
     "metadata": {},
     "output_type": "execute_result"
    }
   ],
   "source": [
    "df.isna().sum() #sanity check, no nans anymore"
   ]
  },
  {
   "cell_type": "markdown",
   "id": "87a6681e-4d9f-4ffe-9090-5d158cee2ee5",
   "metadata": {},
   "source": [
    "### Use the following features: tenure, SeniorCitizen, MonthlyCharges and TotalCharges:"
   ]
  },
  {
   "cell_type": "code",
   "execution_count": 8,
   "id": "9f6a8dbc-bea8-4cac-acbc-812eae485c41",
   "metadata": {},
   "outputs": [],
   "source": [
    "features = ['SeniorCitizen','MonthlyCharges', 'TotalCharges']"
   ]
  },
  {
   "cell_type": "code",
   "execution_count": 9,
   "id": "b0dd3c6a-d1c9-4ebb-8b9c-5bb3e4d4b7e0",
   "metadata": {},
   "outputs": [],
   "source": [
    "X = df.loc[:,features] #separating independent variables"
   ]
  },
  {
   "cell_type": "code",
   "execution_count": 10,
   "id": "6e3b9eb4-4f7f-4728-9742-765c8197b8cf",
   "metadata": {},
   "outputs": [],
   "source": [
    "y = df.loc[:,\"Churn\"] # target variable"
   ]
  },
  {
   "cell_type": "markdown",
   "id": "4ac01707-3425-41c1-8f82-cb4c99c5d476",
   "metadata": {},
   "source": [
    "- Split the data into a training set and a test set."
   ]
  },
  {
   "cell_type": "code",
   "execution_count": 11,
   "id": "29a00c30-bfa8-43f6-a08e-9e46b44794fa",
   "metadata": {},
   "outputs": [],
   "source": [
    "X_train,X_test,y_train,y_test = train_test_split(X,y, test_size = 0.20, random_state = 0) #train test split the data"
   ]
  },
  {
   "cell_type": "markdown",
   "id": "22759c8d-cbfa-4dba-8086-f30f613ebe3a",
   "metadata": {},
   "source": [
    "- Scale the features either by using normalizer or a standard scaler."
   ]
  },
  {
   "cell_type": "markdown",
   "id": "79166b97-4813-4b34-be72-5a41b83b6ee1",
   "metadata": {},
   "source": [
    "- Fit a logistic regression model on the training data."
   ]
  },
  {
   "cell_type": "code",
   "execution_count": 12,
   "id": "067c5132-f9de-4ab3-beb5-1b0a52733081",
   "metadata": {},
   "outputs": [],
   "source": [
    "def model_inplace(scaler, model, X_train, X_test, y_train, y_test):\n",
    "    X_train = scaler.fit_transform(X_train)\n",
    "    X_test = scaler.transform(X_test)\n",
    "    model.fit(X_train,y_train)\n",
    "    pred_train =model.predict(X_train)\n",
    "    pred_test = model.predict(X_test)\n",
    "    print(\"classification report on train set:\")\n",
    "    print(classification_report(y_train, pred_train))\n",
    "    print (\"-------------------------------------------------------------------------------\")\n",
    "    print(\"classification report on test set:\")\n",
    "    print(classification_report(y_test, pred_test))"
   ]
  },
  {
   "cell_type": "markdown",
   "id": "ed251fe3-659a-40ab-96d8-3967d068eff3",
   "metadata": {},
   "source": [
    "- Check the accuracy on the test data."
   ]
  },
  {
   "cell_type": "code",
   "execution_count": 13,
   "id": "9b1ab9e1-1157-4613-8df3-4a48020e248c",
   "metadata": {},
   "outputs": [
    {
     "name": "stdout",
     "output_type": "stream",
     "text": [
      "classification report on train set:\n",
      "              precision    recall  f1-score   support\n",
      "\n",
      "          No       0.82      0.91      0.86      4133\n",
      "         Yes       0.65      0.46      0.54      1501\n",
      "\n",
      "    accuracy                           0.79      5634\n",
      "   macro avg       0.74      0.69      0.70      5634\n",
      "weighted avg       0.78      0.79      0.78      5634\n",
      "\n",
      "-------------------------------------------------------------------------------\n",
      "classification report on test set:\n",
      "              precision    recall  f1-score   support\n",
      "\n",
      "          No       0.82      0.90      0.86      1041\n",
      "         Yes       0.61      0.45      0.52       368\n",
      "\n",
      "    accuracy                           0.78      1409\n",
      "   macro avg       0.72      0.68      0.69      1409\n",
      "weighted avg       0.77      0.78      0.77      1409\n",
      "\n"
     ]
    }
   ],
   "source": [
    "model_inplace(StandardScaler(),LogisticRegression(),X_train, X_test, y_train, y_test)"
   ]
  },
  {
   "cell_type": "markdown",
   "id": "3c06d8e9-6a6a-4d0f-9756-2ef9deb44592",
   "metadata": {},
   "source": [
    "### Check for the imbalance.\n"
   ]
  },
  {
   "cell_type": "code",
   "execution_count": 14,
   "id": "9ea78432-58bd-4a40-9e08-52027976cbd6",
   "metadata": {},
   "outputs": [
    {
     "data": {
      "text/plain": [
       "No     0.73463\n",
       "Yes    0.26537\n",
       "Name: Churn, dtype: float64"
      ]
     },
     "execution_count": 14,
     "metadata": {},
     "output_type": "execute_result"
    }
   ],
   "source": [
    "y.value_counts()/len(df)"
   ]
  },
  {
   "cell_type": "code",
   "execution_count": 15,
   "id": "0ffc9389-d967-44ff-9bad-9546024466c4",
   "metadata": {},
   "outputs": [
    {
     "data": {
      "text/plain": [
       "No     0.738822\n",
       "Yes    0.261178\n",
       "Name: Churn, dtype: float64"
      ]
     },
     "execution_count": 15,
     "metadata": {},
     "output_type": "execute_result"
    }
   ],
   "source": [
    "y_test.value_counts()/len(y_test)"
   ]
  },
  {
   "cell_type": "code",
   "execution_count": 16,
   "id": "50aae131-f973-47e1-9523-2573192f4247",
   "metadata": {},
   "outputs": [
    {
     "data": {
      "text/plain": [
       "No     0.733582\n",
       "Yes    0.266418\n",
       "Name: Churn, dtype: float64"
      ]
     },
     "execution_count": 16,
     "metadata": {},
     "output_type": "execute_result"
    }
   ],
   "source": [
    "y_train.value_counts()/len(y_train)"
   ]
  },
  {
   "cell_type": "markdown",
   "id": "3d6e7602-430b-471b-b2eb-2ad9c9d43a67",
   "metadata": {},
   "source": [
    "Highly imbalanced data, which is preserved in train/test"
   ]
  },
  {
   "cell_type": "markdown",
   "id": "0d20d633-fd14-423e-bdaa-b09cd263302f",
   "metadata": {},
   "source": [
    "### Use the resampling strategies used in class for upsampling and downsampling to create a balance between the two classes."
   ]
  },
  {
   "cell_type": "markdown",
   "id": "fc64404f-d5d2-4cd1-aee3-24dc0aa4e255",
   "metadata": {},
   "source": [
    "#### 1. SMOTE"
   ]
  },
  {
   "cell_type": "code",
   "execution_count": 17,
   "id": "a809790a-777a-47bb-87e3-7ea979f657d4",
   "metadata": {},
   "outputs": [],
   "source": [
    "sm = SMOTE(k_neighbors=3)\n",
    "\n",
    "X_train_SMOTE, y_train_SMOTE = sm.fit_resample(X_train, y_train)"
   ]
  },
  {
   "cell_type": "code",
   "execution_count": 18,
   "id": "caa6df7f-6db9-4d62-99f2-f1279d7c51b9",
   "metadata": {},
   "outputs": [
    {
     "data": {
      "text/plain": [
       "No     0.5\n",
       "Yes    0.5\n",
       "Name: Churn, dtype: float64"
      ]
     },
     "execution_count": 18,
     "metadata": {},
     "output_type": "execute_result"
    }
   ],
   "source": [
    "y_train_SMOTE.value_counts()/len(y_train_SMOTE)"
   ]
  },
  {
   "cell_type": "code",
   "execution_count": 19,
   "id": "90c10991-6d41-4628-979c-118f9e0c2878",
   "metadata": {},
   "outputs": [
    {
     "name": "stdout",
     "output_type": "stream",
     "text": [
      "classification report on train set:\n",
      "              precision    recall  f1-score   support\n",
      "\n",
      "          No       0.72      0.73      0.73      4133\n",
      "         Yes       0.73      0.72      0.72      4133\n",
      "\n",
      "    accuracy                           0.73      8266\n",
      "   macro avg       0.73      0.73      0.73      8266\n",
      "weighted avg       0.73      0.73      0.73      8266\n",
      "\n",
      "-------------------------------------------------------------------------------\n",
      "classification report on test set:\n",
      "              precision    recall  f1-score   support\n",
      "\n",
      "          No       0.86      0.72      0.78      1041\n",
      "         Yes       0.45      0.66      0.54       368\n",
      "\n",
      "    accuracy                           0.70      1409\n",
      "   macro avg       0.66      0.69      0.66      1409\n",
      "weighted avg       0.75      0.70      0.72      1409\n",
      "\n"
     ]
    }
   ],
   "source": [
    "model_inplace(StandardScaler(),LogisticRegression(),X_train_SMOTE, X_test, y_train_SMOTE, y_test)"
   ]
  },
  {
   "cell_type": "markdown",
   "id": "2f04cb10-9054-498b-a581-cd8258976383",
   "metadata": {},
   "source": [
    "The results got worse, we will continue with TOMEKLINKS now"
   ]
  },
  {
   "cell_type": "markdown",
   "id": "9339c8ff-5ae0-455e-8141-a430778f6b39",
   "metadata": {},
   "source": [
    "#### 2. TOMEKLINKS"
   ]
  },
  {
   "cell_type": "code",
   "execution_count": 20,
   "id": "10378890-3b89-4cb1-81b3-858570f81c34",
   "metadata": {},
   "outputs": [],
   "source": [
    "tm = TomekLinks()\n",
    "X_train_tm,y_train_tm = tm.fit_resample(X_train,y_train)"
   ]
  },
  {
   "cell_type": "code",
   "execution_count": 21,
   "id": "4ace3ee9-682d-4ef2-a0cb-042d0b32dc3d",
   "metadata": {},
   "outputs": [
    {
     "data": {
      "text/plain": [
       "No     0.710678\n",
       "Yes    0.289322\n",
       "Name: Churn, dtype: float64"
      ]
     },
     "execution_count": 21,
     "metadata": {},
     "output_type": "execute_result"
    }
   ],
   "source": [
    "y_train_tm.value_counts()/len(y_train_tm)"
   ]
  },
  {
   "cell_type": "code",
   "execution_count": 22,
   "id": "07cf2571-4016-444d-9284-514450945e53",
   "metadata": {},
   "outputs": [
    {
     "name": "stdout",
     "output_type": "stream",
     "text": [
      "classification report on train set:\n",
      "              precision    recall  f1-score   support\n",
      "\n",
      "          No       0.82      0.90      0.86      3687\n",
      "         Yes       0.69      0.52      0.59      1501\n",
      "\n",
      "    accuracy                           0.79      5188\n",
      "   macro avg       0.75      0.71      0.73      5188\n",
      "weighted avg       0.78      0.79      0.78      5188\n",
      "\n",
      "-------------------------------------------------------------------------------\n",
      "classification report on test set:\n",
      "              precision    recall  f1-score   support\n",
      "\n",
      "          No       0.83      0.85      0.84      1041\n",
      "         Yes       0.54      0.50      0.52       368\n",
      "\n",
      "    accuracy                           0.76      1409\n",
      "   macro avg       0.69      0.68      0.68      1409\n",
      "weighted avg       0.75      0.76      0.76      1409\n",
      "\n"
     ]
    }
   ],
   "source": [
    "model_inplace(StandardScaler(),LogisticRegression(),X_train_tm, X_test, y_train_tm, y_test)"
   ]
  },
  {
   "cell_type": "markdown",
   "id": "0a88de37-4841-4d6d-9353-d9820f5e9dbc",
   "metadata": {},
   "source": [
    "#### 3. RandomUnderSampler"
   ]
  },
  {
   "cell_type": "code",
   "execution_count": 23,
   "id": "b7b73224-696a-48cc-883e-fc3c2f32ee7e",
   "metadata": {},
   "outputs": [],
   "source": [
    "under = RandomUnderSampler()\n",
    "X_train_under,y_train_under = under.fit_resample(X_train,y_train)"
   ]
  },
  {
   "cell_type": "code",
   "execution_count": 24,
   "id": "7a6fd3f0-9150-4006-987d-43bc6a2ed8de",
   "metadata": {},
   "outputs": [
    {
     "data": {
      "text/plain": [
       "No     0.5\n",
       "Yes    0.5\n",
       "Name: Churn, dtype: float64"
      ]
     },
     "execution_count": 24,
     "metadata": {},
     "output_type": "execute_result"
    }
   ],
   "source": [
    "y_train_under.value_counts()/len(y_train_under)"
   ]
  },
  {
   "cell_type": "code",
   "execution_count": 25,
   "id": "e4bc6e07-f4a8-44f7-9c0e-0ed87141e70a",
   "metadata": {},
   "outputs": [
    {
     "name": "stdout",
     "output_type": "stream",
     "text": [
      "classification report on train set:\n",
      "              precision    recall  f1-score   support\n",
      "\n",
      "          No       0.72      0.73      0.73      1501\n",
      "         Yes       0.73      0.72      0.72      1501\n",
      "\n",
      "    accuracy                           0.73      3002\n",
      "   macro avg       0.73      0.73      0.73      3002\n",
      "weighted avg       0.73      0.73      0.73      3002\n",
      "\n",
      "-------------------------------------------------------------------------------\n",
      "classification report on test set:\n",
      "              precision    recall  f1-score   support\n",
      "\n",
      "          No       0.86      0.73      0.79      1041\n",
      "         Yes       0.47      0.68      0.55       368\n",
      "\n",
      "    accuracy                           0.72      1409\n",
      "   macro avg       0.67      0.70      0.67      1409\n",
      "weighted avg       0.76      0.72      0.73      1409\n",
      "\n"
     ]
    }
   ],
   "source": [
    "model_inplace(StandardScaler(),LogisticRegression(),X_train_under, X_test, y_train_under, y_test)"
   ]
  },
  {
   "cell_type": "markdown",
   "id": "45b5dadb-946e-40f4-aae8-baa72520143f",
   "metadata": {},
   "source": [
    "#### 4. RandomOverSampler"
   ]
  },
  {
   "cell_type": "code",
   "execution_count": 26,
   "id": "3d3d64c6-0b5c-445e-ab33-933c31b77cbd",
   "metadata": {},
   "outputs": [],
   "source": [
    "over = RandomOverSampler()\n",
    "X_train_over,y_train_over = over.fit_resample(X_train,y_train)"
   ]
  },
  {
   "cell_type": "code",
   "execution_count": 27,
   "id": "1a5563f9-8801-4c90-b12a-e6bac95198d2",
   "metadata": {},
   "outputs": [
    {
     "data": {
      "text/plain": [
       "No     0.5\n",
       "Yes    0.5\n",
       "Name: Churn, dtype: float64"
      ]
     },
     "execution_count": 27,
     "metadata": {},
     "output_type": "execute_result"
    }
   ],
   "source": [
    "y_train_over.value_counts()/len(y_train_over)"
   ]
  },
  {
   "cell_type": "code",
   "execution_count": 28,
   "id": "d0e1099d-a06e-4723-bef5-50274ad60ec3",
   "metadata": {},
   "outputs": [
    {
     "name": "stdout",
     "output_type": "stream",
     "text": [
      "classification report on train set:\n",
      "              precision    recall  f1-score   support\n",
      "\n",
      "          No       0.73      0.73      0.73      4133\n",
      "         Yes       0.73      0.72      0.73      4133\n",
      "\n",
      "    accuracy                           0.73      8266\n",
      "   macro avg       0.73      0.73      0.73      8266\n",
      "weighted avg       0.73      0.73      0.73      8266\n",
      "\n",
      "-------------------------------------------------------------------------------\n",
      "classification report on test set:\n",
      "              precision    recall  f1-score   support\n",
      "\n",
      "          No       0.87      0.73      0.79      1041\n",
      "         Yes       0.47      0.69      0.56       368\n",
      "\n",
      "    accuracy                           0.72      1409\n",
      "   macro avg       0.67      0.71      0.68      1409\n",
      "weighted avg       0.76      0.72      0.73      1409\n",
      "\n"
     ]
    }
   ],
   "source": [
    "model_inplace(StandardScaler(),LogisticRegression(),X_train_over, X_test, y_train_over, y_test)"
   ]
  },
  {
   "cell_type": "markdown",
   "id": "449689b3-3163-4baa-b769-768a621df017",
   "metadata": {},
   "source": [
    "### Each time fit the model and see how the accuracy of the model is."
   ]
  },
  {
   "cell_type": "markdown",
   "id": "2e575c2a-c195-415d-bc3c-bc1ca2ede1c9",
   "metadata": {},
   "source": [
    "All in all we can conclude that the baseline model worked best. Using resampling methods did not help much. From the used techniques TOMEKLINKS provided the best results. "
   ]
  }
 ],
 "metadata": {
  "kernelspec": {
   "display_name": "Python 3 (ipykernel)",
   "language": "python",
   "name": "python3"
  },
  "language_info": {
   "codemirror_mode": {
    "name": "ipython",
    "version": 3
   },
   "file_extension": ".py",
   "mimetype": "text/x-python",
   "name": "python",
   "nbconvert_exporter": "python",
   "pygments_lexer": "ipython3",
   "version": "3.9.12"
  }
 },
 "nbformat": 4,
 "nbformat_minor": 5
}
